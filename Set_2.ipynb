{
 "cells": [
  {
   "cell_type": "markdown",
   "id": "c94dfc28",
   "metadata": {},
   "source": [
    "Question 1"
   ]
  },
  {
   "cell_type": "markdown",
   "id": "3927ca38",
   "metadata": {},
   "source": [
    "Consider the following Python module:\n",
    "a = 0\n",
    "def b():\n",
    " global a\n",
    " a = c(a)\n",
    "def c(a):\n",
    " return a + 2    \n",
    " After importing the module into the interpreter, you execute:"
   ]
  },
  {
   "cell_type": "markdown",
   "id": "54e9e7ed",
   "metadata": {},
   "source": [
    "What value is displayed when the last expression (a) is evaluated? Explain youranswer by indicating what happens in every executed statement"
   ]
  },
  {
   "cell_type": "code",
   "execution_count": 3,
   "id": "146e01fc",
   "metadata": {},
   "outputs": [
    {
     "name": "stdout",
     "output_type": "stream",
     "text": [
      "2\n",
      "4\n",
      "6\n",
      "6\n"
     ]
    }
   ],
   "source": [
    "a = 0\n",
    "def b():\n",
    "    global a\n",
    "    a = c(a)\n",
    "    print(a)\n",
    "\n",
    "def c(a):\n",
    "    return a + 2\n",
    "\n",
    "b()\n",
    "b()\n",
    "b()\n",
    "print(a)"
   ]
  },
  {
   "cell_type": "markdown",
   "id": "850ff63a",
   "metadata": {},
   "source": [
    "The evaluated value of the last expression is 6.\n"
   ]
  },
  {
   "cell_type": "markdown",
   "id": "88d33a48",
   "metadata": {},
   "source": [
    "When the function b is executed, it assigns a global variable 'a' having initial value 0. It then executes the function c which it then increments the value by 2 and assigns it's return value back to a, which in this case is 2 and same process gets repeates twice."
   ]
  },
  {
   "cell_type": "markdown",
   "id": "e89c13ef",
   "metadata": {},
   "source": [
    "Question 2"
   ]
  },
  {
   "cell_type": "markdown",
   "id": "3ec497d0",
   "metadata": {},
   "source": [
    "Function fileLength(), given to you, takes the name of a file as input and returnsthe length of the file:"
   ]
  },
  {
   "cell_type": "markdown",
   "id": "192a11b1",
   "metadata": {},
   "source": [
    "fileLength('midterm.py') 284 fileLength('idterm.py') Traceback (most recent call last): File \"<pyshell#34>\", line 1, in fileLength('idterm.py') File \"/Users/me/midterm.py\", line 3, in fileLength infile = open(filename) FileNotFoundError: [Errno 2] No such file or directory: 'idterm.py'"
   ]
  },
  {
   "cell_type": "markdown",
   "id": "23f4442a",
   "metadata": {},
   "source": [
    "As shown above, if the file cannot be found by the interpreter or if it cannot be readas a text file, an exception will be raised. Modify function fileLength() so that afriendly message is printed instead: fileLength('midterm.py') 358 fileLength('idterm.py') File idterm.py not found."
   ]
  },
  {
   "cell_type": "code",
   "execution_count": 4,
   "id": "804987c7",
   "metadata": {},
   "outputs": [
    {
     "name": "stdout",
     "output_type": "stream",
     "text": [
      "The file abc.txt is either missing from path or the name is incorrect\n",
      "394\n"
     ]
    }
   ],
   "source": [
    "def fileLength(get_file_name):\n",
    "    \n",
    "    try:\n",
    "        input_file = open(get_file_name,\"r\")\n",
    "    except FileNotFoundError as e:\n",
    "        print(\"The file {0} is either missing from path or the name is incorrect\".format(get_file_name))\n",
    "        return\n",
    "    read_file = input_file.read()\n",
    "    print(len(read_file))\n",
    "\n",
    "fileLength(\"abc.txt\")\n",
    "fileLength(\"C:\\\\Users\\\\Manoj\\\\Desktop\\\\w3c.html\")"
   ]
  },
  {
   "cell_type": "markdown",
   "id": "6392d15b",
   "metadata": {},
   "source": [
    "Question 3"
   ]
  },
  {
   "cell_type": "markdown",
   "id": "dc9920e6",
   "metadata": {},
   "source": [
    "Write a class named Marsupial that can be used as shown below: m = Marsupial() m.put_in_pouch('doll') m.put_in_pouch('firetruck') m.put_in_pouch('kitten') m.pouch_contents() ['doll', 'firetruck', 'kitten']"
   ]
  },
  {
   "cell_type": "markdown",
   "id": "93901601",
   "metadata": {},
   "source": [
    "Now write a class named Kangaroo as a subclass of Marsupial that inherits all the attributes of Marsupial and also: a. extends the Marsupial init constructor to take, as input, the coordinates x and y of the Kangaroo object, b. supports method jump that takes number values dx and dy as input and moves the kangaroo by dx units along the x-axis and by dy units along the y-axis, and c. overloads the str operator so it behaves as shown below."
   ]
  },
  {
   "cell_type": "markdown",
   "id": "7777bb09",
   "metadata": {},
   "source": [
    "k = Kangaroo(0,0) print(k) I am a Kangaroo located at coordinates (0,0) k.put_in_pouch('doll') k.put_in_pouch('firetruck') k.put_in_pouch('kitten') k.pouch_contents() ['doll', 'firetruck', 'kitten'] k.jump(1,0) k.jump(1,0) k.jump(1,0) print(k) I am a Kangaroo located at coordinates (3,0"
   ]
  },
  {
   "cell_type": "code",
   "execution_count": 5,
   "id": "8552e7c6",
   "metadata": {},
   "outputs": [
    {
     "name": "stdout",
     "output_type": "stream",
     "text": [
      "['doll', 'firetruck', 'kitten']\n",
      "I am at Kangaroo located at coordinates (0,0)\n",
      "['doll', 'firetruck', 'kitten']\n",
      "I am at Kangaroo located at coordinates (3,0)\n"
     ]
    }
   ],
   "source": [
    "class Marsupial:\n",
    "\n",
    "    def __init__(self):\n",
    "        self.collect_list = []\n",
    "    def put_in_pouch(self,get_value):\n",
    "        self.collect_list.append(get_value)\n",
    "    def pouch_contents(self):\n",
    "        print(self.collect_list)\n",
    "\n",
    "class Kangaroo(Marsupial):\n",
    "    \n",
    "    def __init__(self,get_x_value,get_y_value):\n",
    "        super().__init__()\n",
    "        self.x_value = get_x_value\n",
    "        self.y_value = get_y_value\n",
    "\n",
    "    def jump(self,get_x_value,get_y_value):\n",
    "        self.x_value += get_x_value\n",
    "        self.y_value += get_y_value\n",
    "    \n",
    "    def __str__(self):\n",
    "        return \"I am at Kangaroo located at coordinates ({0},{1})\".format(self.x_value,self.y_value)\n",
    "\n",
    "m = Marsupial()\n",
    "m.put_in_pouch('doll')\n",
    "m.put_in_pouch('firetruck')\n",
    "m.put_in_pouch('kitten')\n",
    "m.pouch_contents()\n",
    "k = Kangaroo(0,0)\n",
    "print(k)\n",
    "k.put_in_pouch('doll')\n",
    "k.put_in_pouch('firetruck')\n",
    "k.put_in_pouch('kitten')\n",
    "k.pouch_contents()\n",
    "k.jump(1,0)\n",
    "k.jump(1,0)\n",
    "k.jump(1,0)\n",
    "print(k)"
   ]
  },
  {
   "cell_type": "markdown",
   "id": "de61934c",
   "metadata": {},
   "source": [
    "Question 4"
   ]
  },
  {
   "cell_type": "markdown",
   "id": "397f4fff",
   "metadata": {},
   "source": [
    "Write function collatz() that takes a positive integer x as input and prints theCollatz sequence starting at x. A Collatz sequence is obtained by repeatedly applyingthis rule to the previous number x in the sequence:"
   ]
  },
  {
   "cell_type": "markdown",
   "id": "2bbe9e57",
   "metadata": {},
   "source": [
    "x = x/2 if x is even 3x+1 if x is odd"
   ]
  },
  {
   "cell_type": "markdown",
   "id": "ab4f32c2",
   "metadata": {},
   "source": [
    "Your function should stop when the sequence gets to number 1.Your implementation must be recursive, without any loops."
   ]
  },
  {
   "cell_type": "markdown",
   "id": "51fb5323",
   "metadata": {},
   "source": [
    "collatz(1) 1 collatz(10) 10 5 16 8 4 2 1"
   ]
  },
  {
   "cell_type": "code",
   "execution_count": 6,
   "id": "e7a5b12c",
   "metadata": {},
   "outputs": [
    {
     "name": "stdout",
     "output_type": "stream",
     "text": [
      "10\n",
      "5\n",
      "16\n",
      "8\n",
      "4\n",
      "2\n",
      "1\n"
     ]
    }
   ],
   "source": [
    "def collatz(get_value):\n",
    "    x = get_value\n",
    "    while x != 1:\n",
    "        print(x)\n",
    "        if x % 2 == 0:\n",
    "            x = int(x / 2)\n",
    "        else:\n",
    "            x = int(3 * x + 1)\n",
    "    print(1)\n",
    "\n",
    "collatz(10)"
   ]
  },
  {
   "cell_type": "markdown",
   "id": "3428c758",
   "metadata": {},
   "source": [
    "Question 5"
   ]
  },
  {
   "cell_type": "markdown",
   "id": "2ad823a5",
   "metadata": {},
   "source": [
    "Write a recursive method binary() that takes a non-negativeinteger n and prints the binary representation of integer n."
   ]
  },
  {
   "cell_type": "markdown",
   "id": "91688a71",
   "metadata": {},
   "source": [
    "binary(0) 0 binary(1) 1 binary(3) 11 binary(9) 1001"
   ]
  },
  {
   "cell_type": "code",
   "execution_count": 7,
   "id": "aeef686e",
   "metadata": {},
   "outputs": [
    {
     "name": "stdout",
     "output_type": "stream",
     "text": [
      "0\n",
      "1\n",
      "11\n",
      "1001\n"
     ]
    }
   ],
   "source": [
    "def binary(get_value, binary_representation=\"\"):\n",
    "    if get_value < 0:\n",
    "        print(\"Input must be a non-negative integer.\")\n",
    "        return\n",
    "    elif get_value == 0:\n",
    "        if binary_representation == \"\":\n",
    "            print(0)\n",
    "        else:\n",
    "            print(binary_representation[::-1])\n",
    "    else:\n",
    "        remainder = get_value % 2\n",
    "        binary_representation += str(remainder)\n",
    "        get_value = int(get_value // 2)\n",
    "        binary(get_value, binary_representation)\n",
    "\n",
    "binary(0)\n",
    "binary(1)\n",
    "binary(3)\n",
    "binary(9)"
   ]
  },
  {
   "cell_type": "markdown",
   "id": "cc0a4785",
   "metadata": {},
   "source": [
    "Question 6"
   ]
  },
  {
   "cell_type": "markdown",
   "id": "a67fe96b",
   "metadata": {},
   "source": [
    "Implement a class named HeadingParser that can be used to parse an HTMLdocument, and retrieve and print all the headings in the document. You shouldimplement your class as a subclass of HTMLParser, defined in Standard Librarymodule html.parser. When fed a string containing HTML code, your class shouldprint the headings, one per line and in the order in which they appear in thedocument. Each heading should be indented as follows: an h1 heading should have indentation 0, and h2 heading should have indentation 1, etc. Test yourimplementation using w3c.html"
   ]
  },
  {
   "cell_type": "markdown",
   "id": "e5d39d02",
   "metadata": {},
   "source": [
    "infile = open('w3c.html') content = infile.read() infile.close() hp = HeadingParser() hp.feed(content) W3C Mission Principles"
   ]
  },
  {
   "cell_type": "code",
   "execution_count": 3,
   "id": "134933cf",
   "metadata": {},
   "outputs": [
    {
     "name": "stdout",
     "output_type": "stream",
     "text": [
      "W3C Mission\n",
      " Principles\n"
     ]
    }
   ],
   "source": [
    "from html.parser import HTMLParser\n",
    "\n",
    "class HeadingParser(HTMLParser):\n",
    "    def __init__(self):\n",
    "        super().__init__()\n",
    "        self.headings = []\n",
    "        self.current_heading = None\n",
    "\n",
    "    def handle_starttag(self, tag, attrs):\n",
    "        if tag.startswith('h') and tag[1:].isdigit():\n",
    "            self.current_heading = {'level': int(tag[1]), 'text': ''}\n",
    "\n",
    "    def handle_data(self, data):\n",
    "        if self.current_heading:\n",
    "            self.current_heading['text'] += data\n",
    "\n",
    "    def handle_endtag(self, tag):\n",
    "        if self.current_heading:\n",
    "            self.headings.append(self.current_heading)\n",
    "            self.current_heading = None\n",
    "\n",
    "    def print_headings(self):\n",
    "        for heading in self.headings:\n",
    "            print(' ' * (heading['level'] - 1) + heading['text'])\n",
    "\n",
    "\n",
    "infile = open(\"C:\\\\Users\\\\Manoj\\\\Desktop\\\\w3c.html\" , \"r\")\n",
    "content = infile.read()\n",
    "infile.close()\n",
    "hp = HeadingParser()\n",
    "hp.feed(content)\n",
    "hp.print_headings()"
   ]
  },
  {
   "cell_type": "markdown",
   "id": "9015c192",
   "metadata": {},
   "source": [
    "Question 7"
   ]
  },
  {
   "cell_type": "markdown",
   "id": "15e6bb84",
   "metadata": {},
   "source": [
    "Implement recursive function webdir() that takes as input: a URL (as a string) andnon-negative integers depth and indent. Your function should visit every webpage reachable from the starting URL web page in depth clicks or less, and printeach web page's URL. As shown below, indentation, specified by indent, shouldbe used to indicate the depth of a URL. webdir('http://reed.cs.depaul.edu/lperkovic/csc242/test1.html', 2, 0)"
   ]
  },
  {
   "cell_type": "markdown",
   "id": "c6f5e163",
   "metadata": {},
   "source": [
    "http://reed.cs.depaul.edu/lperkovic/csc242/test1.htmlhttp://reed.cs.depaul.edu/lperkovic/csc242/test2.html\n",
    "http://reed.cs.depaul.edu/lperkovic/csc242/test4.htmlhttp://reed.cs.depaul.edu/lperkovic/csc242/test3.html\n",
    "http://reed.cs.depaul.edu/lperkovic/csc242/test4.html"
   ]
  },
  {
   "cell_type": "code",
   "execution_count": 9,
   "id": "266b249a",
   "metadata": {},
   "outputs": [
    {
     "name": "stdout",
     "output_type": "stream",
     "text": [
      "Error: 404 Client Error:  for url: http://reed.cs.depaul.edu/lperkovic/csc242/test1.html\n"
     ]
    }
   ],
   "source": [
    "import requests\n",
    "\n",
    "def webdir(url, depth, indent):\n",
    "    if depth < 0:\n",
    "        return\n",
    "\n",
    "    try:\n",
    "        response = requests.get(url)\n",
    "        response.raise_for_status()\n",
    "\n",
    "        print(' ' * indent + url)\n",
    "\n",
    "        if depth > 0:\n",
    "            links = find_links(response.text)\n",
    "            for link in links:\n",
    "                webdir(link, depth - 1, indent + 4)\n",
    "\n",
    "    except requests.exceptions.RequestException as e:\n",
    "        print(' ' * indent + f\"Error: {e}\")\n",
    "\n",
    "def find_links(html_content):\n",
    "    links = []\n",
    "    start = 0\n",
    "    while True:\n",
    "        start = html_content.find('href=\"', start)\n",
    "        if start == -1:\n",
    "            break\n",
    "        start += 6\n",
    "        end = html_content.find('\"', start)\n",
    "        if end == -1:\n",
    "            break\n",
    "        links.append(html_content[start:end])\n",
    "        start = end\n",
    "    return links\n",
    "\n",
    "webdir('http://reed.cs.depaul.edu/lperkovic/csc242/test1.html', 2, 0)"
   ]
  },
  {
   "cell_type": "markdown",
   "id": "816dd99a",
   "metadata": {},
   "source": [
    "Question 8"
   ]
  },
  {
   "cell_type": "markdown",
   "id": "4ab3cfc2",
   "metadata": {},
   "source": [
    "Write SQL queries on the below database table that return:"
   ]
  },
  {
   "cell_type": "markdown",
   "id": "f5f3ea46",
   "metadata": {},
   "source": [
    "a. All the temperature data."
   ]
  },
  {
   "cell_type": "code",
   "execution_count": null,
   "id": "e9e0736d",
   "metadata": {},
   "outputs": [],
   "source": [
    "SELECT temperature FROM weather_data;"
   ]
  },
  {
   "cell_type": "markdown",
   "id": "57355a33",
   "metadata": {},
   "source": [
    "b. All the cities, but without repetition."
   ]
  },
  {
   "cell_type": "code",
   "execution_count": null,
   "id": "f098e724",
   "metadata": {},
   "outputs": [],
   "source": [
    "SELECT DISTINCT city FROM weather_data;"
   ]
  },
  {
   "cell_type": "markdown",
   "id": "4edcc780",
   "metadata": {},
   "source": [
    "c. All the records for India."
   ]
  },
  {
   "cell_type": "code",
   "execution_count": null,
   "id": "c2abac52",
   "metadata": {},
   "outputs": [],
   "source": [
    "SELECT * FROM weather_data WHERE country = 'India';"
   ]
  },
  {
   "cell_type": "markdown",
   "id": "0052aaf3",
   "metadata": {},
   "source": [
    "d. All the Fall records."
   ]
  },
  {
   "cell_type": "code",
   "execution_count": null,
   "id": "8b56b04f",
   "metadata": {},
   "outputs": [],
   "source": [
    "SELECT * FROM weather_data WHERE season = 'Fall';"
   ]
  },
  {
   "cell_type": "markdown",
   "id": "8179b5cb",
   "metadata": {},
   "source": [
    "e. The city, country, and season for which the average rainfall is between 200 and 400 millimeters."
   ]
  },
  {
   "cell_type": "code",
   "execution_count": null,
   "id": "51f27fee",
   "metadata": {},
   "outputs": [],
   "source": [
    "SELECT city, country, season\n",
    "FROM weather_data\n",
    "GROUP BY city, country, season\n",
    "HAVING AVG(rainfall) BETWEEN 200 AND 400;"
   ]
  },
  {
   "cell_type": "markdown",
   "id": "9ca5551b",
   "metadata": {},
   "source": [
    "f. The city and country for which the average Fall temperature is above 20 degrees, in increasing temperature order."
   ]
  },
  {
   "cell_type": "code",
   "execution_count": null,
   "id": "8cefb4ff",
   "metadata": {},
   "outputs": [],
   "source": [
    "SELECT city, country\n",
    "FROM weather_data\n",
    "WHERE season = 'Fall'\n",
    "GROUP BY city, country\n",
    "HAVING AVG(temperature) > 20\n",
    "ORDER BY AVG(temperature) ASC;"
   ]
  },
  {
   "cell_type": "markdown",
   "id": "f2a9c89d",
   "metadata": {},
   "source": [
    "g. The total annual rainfall for Cairo."
   ]
  },
  {
   "cell_type": "code",
   "execution_count": null,
   "id": "486f8f49",
   "metadata": {},
   "outputs": [],
   "source": [
    "SELECT SUM(rainfall) AS total_annual_rainfall\n",
    "FROM weather_data\n",
    "WHERE city = 'Cairo';"
   ]
  },
  {
   "cell_type": "markdown",
   "id": "b7247dc2",
   "metadata": {},
   "source": [
    "h. The total rainfall for each season."
   ]
  },
  {
   "cell_type": "code",
   "execution_count": null,
   "id": "ea3419f1",
   "metadata": {},
   "outputs": [],
   "source": [
    "SELECT season, SUM(rainfall) AS total_rainfall\n",
    "FROM weather_data\n",
    "GROUP BY season;"
   ]
  },
  {
   "cell_type": "markdown",
   "id": "a62a65db",
   "metadata": {},
   "source": [
    "Question 9."
   ]
  },
  {
   "cell_type": "markdown",
   "id": "7d38440d",
   "metadata": {},
   "source": [
    "Suppose list words is defined as follows: words = ['The', 'quick', 'brown', 'fox', 'jumps', 'over','the', 'lazy', 'dog']"
   ]
  },
  {
   "cell_type": "markdown",
   "id": "a0885e54",
   "metadata": {},
   "source": [
    "Write list comprehension expressions that use list words and generate the following lists:"
   ]
  },
  {
   "cell_type": "markdown",
   "id": "60debaab",
   "metadata": {},
   "source": [
    "a. ['THE', 'QUICK', 'BROWN', 'FOX', 'JUMPS', 'OVER', 'THE','LAZY', 'DOG'] b. ['the', 'quick', 'brown', 'fox', 'jumps', 'over', 'the','lazy', 'dog'] c. [3, 5, 5, 3, 5, 4, 3, 4, 3] (the list of lengths of words in listwords). d. [['THE', 'the', 3], ['QUICK', 'quick', 5], ['BROWN','brown', 5], ['FOX', 'fox', 3], ['JUMPS', 'jumps', 5],['OVER', 'over', 4], ['THE', 'the', 3], ['LAZY', 'lazy',4], ['DOG', 'dog', 3]] (the list containing a list for every word of listwords, where each list contains the word in uppercase and lowercase and thelength of the word.) e. ['The', 'quick', 'brown', 'fox', 'jumps', 'over', 'the','lazy', 'dog'] the list of words in list words containing 4 or morecharacters"
   ]
  },
  {
   "cell_type": "code",
   "execution_count": 11,
   "id": "928ac537",
   "metadata": {},
   "outputs": [
    {
     "name": "stdout",
     "output_type": "stream",
     "text": [
      "a. ['THE', 'QUICK', 'BROWN', 'FOX', 'JUMPS', 'OVER', 'THE', 'LAZY', 'DOG']\n",
      "b. ['the', 'quick', 'brown', 'fox', 'jumps', 'over', 'the', 'lazy', 'dog']\n",
      "c. [3, 5, 5, 3, 5, 4, 3, 4, 3]\n",
      "d. [['THE', 'the', 3], ['QUICK', 'quick', 5], ['BROWN', 'brown', 5], ['FOX', 'fox', 3], ['JUMPS', 'jumps', 5], ['OVER', 'over', 4], ['THE', 'the', 3], ['LAZY', 'lazy', 4], ['DOG', 'dog', 3]]\n",
      "e. ['quick', 'brown', 'jumps', 'over', 'lazy']\n"
     ]
    }
   ],
   "source": [
    "words = ['The', 'quick', 'brown', 'fox', 'jumps', 'over', 'the', 'lazy', 'dog']\n",
    "uppercase_words = [word.upper() for word in words]\n",
    "lowercase_words = [word.lower() for word in words]\n",
    "word_lengths = [len(word) for word in words]\n",
    "word_info = [[word.upper(), word.lower(), len(word)] for word in words]\n",
    "four_or_more_characters = [word for word in words if len(word) >= 4]\n",
    "print(\"a.\", uppercase_words)\n",
    "print(\"b.\", lowercase_words)\n",
    "print(\"c.\", word_lengths)\n",
    "print(\"d.\", word_info)\n",
    "print(\"e.\", four_or_more_characters)"
   ]
  }
 ],
 "metadata": {
  "kernelspec": {
   "display_name": "Python 3 (ipykernel)",
   "language": "python",
   "name": "python3"
  },
  "language_info": {
   "codemirror_mode": {
    "name": "ipython",
    "version": 3
   },
   "file_extension": ".py",
   "mimetype": "text/x-python",
   "name": "python",
   "nbconvert_exporter": "python",
   "pygments_lexer": "ipython3",
   "version": "3.11.4"
  }
 },
 "nbformat": 4,
 "nbformat_minor": 5
}
